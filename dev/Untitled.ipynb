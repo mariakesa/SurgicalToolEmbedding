{
 "cells": [
  {
   "cell_type": "code",
   "execution_count": 3,
   "id": "981e4c85",
   "metadata": {},
   "outputs": [
    {
     "name": "stdout",
     "output_type": "stream",
     "text": [
      "['', '/usr/lib/python3.6/dist-packages', '/home/maria/.pyenv/versions/3.6.5/lib/python36.zip', '/home/maria/.pyenv/versions/3.6.5/lib/python3.6', '/home/maria/.pyenv/versions/3.6.5/lib/python3.6/lib-dynload', '/home/maria/.local/lib/python3.6/site-packages', '/home/maria/.pyenv/versions/3.6.5/lib/python3.6/site-packages', '/home/maria/.pyenv/versions/3.6.5/lib/python3.6/site-packages/PyWavelets-1.1.0.dev0+b65662f-py3.6-linux-x86_64.egg', '/home/maria/.pyenv/versions/3.6.5/lib/python3.6/site-packages/IPython/extensions', '/home/maria/.ipython']\n"
     ]
    },
    {
     "ename": "ModuleNotFoundError",
     "evalue": "No module named 'cv2'",
     "output_type": "error",
     "traceback": [
      "\u001b[0;31m---------------------------------------------------------------------------\u001b[0m",
      "\u001b[0;31mModuleNotFoundError\u001b[0m                       Traceback (most recent call last)",
      "\u001b[0;32m<ipython-input-3-957879be5d39>\u001b[0m in \u001b[0;36m<module>\u001b[0;34m\u001b[0m\n\u001b[1;32m      6\u001b[0m \u001b[0;32mfrom\u001b[0m \u001b[0mtorch\u001b[0m\u001b[0;34m.\u001b[0m\u001b[0mutils\u001b[0m\u001b[0;34m.\u001b[0m\u001b[0mdata\u001b[0m \u001b[0;32mimport\u001b[0m \u001b[0mDataset\u001b[0m\u001b[0;34m,\u001b[0m \u001b[0mDataLoader\u001b[0m\u001b[0;34m\u001b[0m\u001b[0m\n\u001b[1;32m      7\u001b[0m \u001b[0;32mimport\u001b[0m \u001b[0mglob\u001b[0m\u001b[0;34m\u001b[0m\u001b[0m\n\u001b[0;32m----> 8\u001b[0;31m \u001b[0;32mimport\u001b[0m \u001b[0mcv2\u001b[0m\u001b[0;34m\u001b[0m\u001b[0m\n\u001b[0m",
      "\u001b[0;31mModuleNotFoundError\u001b[0m: No module named 'cv2'"
     ]
    }
   ],
   "source": [
    "import numpy as np\n",
    "import os, sys\n",
    "print(os.sys.path)\n",
    "import torch\n",
    "import os\n",
    "from torch.utils.data import Dataset, DataLoader\n",
    "import glob\n",
    "import cv2"
   ]
  },
  {
   "cell_type": "code",
   "execution_count": null,
   "id": "24cfaa4d",
   "metadata": {},
   "outputs": [],
   "source": [
    "general_surgery_dat='/media/maria/DATA1/Hospitools_Dataset_DSLR/General_Surgery/General_Major'"
   ]
  },
  {
   "cell_type": "code",
   "execution_count": null,
   "id": "573d81b5",
   "metadata": {},
   "outputs": [],
   "source": [
    "tools=os.listdir(general_surgery_dat)"
   ]
  },
  {
   "cell_type": "code",
   "execution_count": null,
   "id": "6b86028d",
   "metadata": {
    "scrolled": true
   },
   "outputs": [],
   "source": [
    "tools"
   ]
  },
  {
   "cell_type": "code",
   "execution_count": null,
   "id": "e36c7250",
   "metadata": {},
   "outputs": [],
   "source": [
    "class GeneralSurgeryToolsDataset(Dataset):\n",
    "    def __init__(self):\n",
    "        self.imgs_path = '/media/maria/DATA1/Hospitools_Dataset_DSLR/General_Surgery/General_Major/'\n",
    "        tools=os.listdir(general_surgery_dat)\n",
    "        folder_list=[]\n",
    "        for im_p in tools:\n",
    "            folder_list.append(glob.glob(self.imgs_path + im_p)[0])\n",
    "        self.data = []\n",
    "        for folder in folder_list:\n",
    "            for file in os.scandir(folder):\n",
    "                #print(file)\n",
    "                class_name = file.path.split(\"/\")[-2]\n",
    "                self.data.append([file.path, class_name])\n",
    "        print(self.data)\n",
    "        self.class_map = {}\n",
    "        i=0\n",
    "        for c in class_name:\n",
    "            self.class_map[class_name]=i\n",
    "            i+=1\n",
    "        self.img_dim = (100, 100)\n",
    "    def __len__(self):\n",
    "        return len(self.data)\n",
    "    def __getitem__(self, idx):\n",
    "        img_path, class_name = self.data[idx]\n",
    "        img = cv2.imread(img_path)\n",
    "        img = cv2.resize(img, self.img_dim)\n",
    "        class_id = self.class_map[class_name]\n",
    "        img_tensor = torch.from_numpy(img)\n",
    "        img_tensor = img_tensor.permute(2, 0, 1)\n",
    "        class_id = torch.tensor([class_id])\n",
    "        return img_tensor, class_id\n",
    "dat=GeneralSurgeryToolsDataset().__getitem__(0)"
   ]
  },
  {
   "cell_type": "code",
   "execution_count": null,
   "id": "0a39a17c",
   "metadata": {},
   "outputs": [],
   "source": [
    "dat=GeneralSurgeryToolsDataset()"
   ]
  }
 ],
 "metadata": {
  "kernelspec": {
   "display_name": "Python 3",
   "language": "python",
   "name": "python3"
  },
  "language_info": {
   "codemirror_mode": {
    "name": "ipython",
    "version": 3
   },
   "file_extension": ".py",
   "mimetype": "text/x-python",
   "name": "python",
   "nbconvert_exporter": "python",
   "pygments_lexer": "ipython3",
   "version": "3.6.5"
  }
 },
 "nbformat": 4,
 "nbformat_minor": 5
}
