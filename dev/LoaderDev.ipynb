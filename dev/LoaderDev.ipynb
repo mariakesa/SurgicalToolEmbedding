{
 "cells": [
  {
   "cell_type": "code",
   "execution_count": 1,
   "id": "981e4c85",
   "metadata": {},
   "outputs": [],
   "source": [
    "import numpy as np\n",
    "import torch\n",
    "import os\n",
    "from torch.utils.data import Dataset, DataLoader\n",
    "import glob\n",
    "import cv2"
   ]
  },
  {
   "cell_type": "code",
   "execution_count": 2,
   "id": "24cfaa4d",
   "metadata": {},
   "outputs": [],
   "source": [
    "general_surgery_dat='/media/maria/DATA1/Hospitools_Dataset_DSLR/General_Surgery/General_Major'"
   ]
  },
  {
   "cell_type": "code",
   "execution_count": 3,
   "id": "573d81b5",
   "metadata": {},
   "outputs": [],
   "source": [
    "tools=os.listdir(general_surgery_dat)"
   ]
  },
  {
   "cell_type": "code",
   "execution_count": 4,
   "id": "6b86028d",
   "metadata": {
    "scrolled": true
   },
   "outputs": [
    {
     "data": {
      "text/plain": [
       "['38_Deaver_Retractor',\n",
       " '50_Deaver_Retractor',\n",
       " '6_Babcock_Tissue_Forceps',\n",
       " '6_Mayo_Needle_Holder',\n",
       " '75_Deaver_Retractor',\n",
       " '7_Metzenbaum_Scissors',\n",
       " '7_Microvascular_Needle_Holder',\n",
       " '8_Babcock_Tissue_Forceps',\n",
       " '8_Mayo_Needle_Holder',\n",
       " '8_Microvascular_Needle_Holder',\n",
       " '9_DeBakey_Dissector',\n",
       " '9_DeBakey_Needle_Holder',\n",
       " '9_Metzenbaum_Scissors',\n",
       " 'Allis_Tissue_Forceps',\n",
       " 'Balfour_Retractor',\n",
       " 'Ball_&_Socket_Towel_Clips',\n",
       " 'Bonneys_Toothed_Dissector',\n",
       " 'Crile_Artery_Forceps',\n",
       " 'Curved_Mayo_Scissors',\n",
       " 'Dressing_Scissors',\n",
       " 'General_Set',\n",
       " 'Gillies_Toothed_Dissector',\n",
       " 'Bonneys_Non_Toothed_Dissector',\n",
       " 'Lahey_Forceps',\n",
       " 'Large_Langebeck_Retractor',\n",
       " 'Large_Olliers_Retractor',\n",
       " 'Littlewood_Tissue_Forceps',\n",
       " 'Mayo_Artery_Forceps',\n",
       " 'Morris_Retractor',\n",
       " 'No3_BP_Handles',\n",
       " 'No4_BP_Handles',\n",
       " 'No7_BP_Handles',\n",
       " 'Robert_Artery_Forceps',\n",
       " 'Small_Olliers_Retractor',\n",
       " 'Sponge_Forceps',\n",
       " 'St-Marks_Retractor',\n",
       " 'Valley_Lab_Diathermy',\n",
       " 'Watson_Cheyne_Probe']"
      ]
     },
     "execution_count": 4,
     "metadata": {},
     "output_type": "execute_result"
    }
   ],
   "source": [
    "tools"
   ]
  },
  {
   "cell_type": "code",
   "execution_count": 10,
   "id": "e36c7250",
   "metadata": {},
   "outputs": [
    {
     "name": "stdout",
     "output_type": "stream",
     "text": [
      "{'38_Deaver_Retractor': 47, '50_Deaver_Retractor': 95, '6_Babcock_Tissue_Forceps': 185, '6_Mayo_Needle_Holder': 260, '75_Deaver_Retractor': 315, '7_Metzenbaum_Scissors': 465, '7_Microvascular_Needle_Holder': 604, '8_Babcock_Tissue_Forceps': 751, '8_Mayo_Needle_Holder': 897, '8_Microvascular_Needle_Holder': 1041, '9_DeBakey_Dissector': 1098, '9_DeBakey_Needle_Holder': 1229, '9_Metzenbaum_Scissors': 1347, 'Allis_Tissue_Forceps': 1477, 'Balfour_Retractor': 1520, 'Ball_&_Socket_Towel_Clips': 1671, 'Bonneys_Toothed_Dissector': 1765, 'Crile_Artery_Forceps': 1903, 'Curved_Mayo_Scissors': 2069, 'Dressing_Scissors': 2202, 'General_Set': 2216, 'Gillies_Toothed_Dissector': 2362, 'Bonneys_Non_Toothed_Dissector': 2457, 'Lahey_Forceps': 2587, 'Large_Langebeck_Retractor': 2629, 'Large_Olliers_Retractor': 2705, 'Littlewood_Tissue_Forceps': 2850, 'Mayo_Artery_Forceps': 2992, 'Morris_Retractor': 3080, 'No3_BP_Handles': 3177, 'No4_BP_Handles': 3266, 'No7_BP_Handles': 3353, 'Robert_Artery_Forceps': 3489, 'Small_Olliers_Retractor': 3569, 'Sponge_Forceps': 3722, 'St-Marks_Retractor': 3762, 'Valley_Lab_Diathermy': 3783, 'Watson_Cheyne_Probe': 3876}\n"
     ]
    }
   ],
   "source": [
    "class GeneralSurgeryToolsDataset(Dataset):\n",
    "    def __init__(self):\n",
    "        self.imgs_path = '/media/maria/DATA1/Hospitools_Dataset_DSLR/General_Surgery/General_Major/'\n",
    "        tools=os.listdir(general_surgery_dat)\n",
    "        folder_list=[]\n",
    "        for im_p in tools:\n",
    "            folder_list.append(glob.glob(self.imgs_path + im_p)[0])\n",
    "        self.data = []\n",
    "        cn=[]\n",
    "        for folder in folder_list:\n",
    "            for file in os.scandir(folder):\n",
    "                class_name = file.path.split(\"/\")[-2]\n",
    "                self.data.append([file.path, class_name])\n",
    "                cn.append(class_name)\n",
    "        self.class_map = {}\n",
    "        i=0\n",
    "        for c in cn:\n",
    "            self.class_map[c]=i\n",
    "            i+=1\n",
    "        print(self.class_map)\n",
    "        self.img_dim = (100, 100)\n",
    "    def __len__(self):\n",
    "        return len(self.data)\n",
    "    def __getitem__(self, idx):\n",
    "        img_path, class_name = self.data[idx]\n",
    "        img = cv2.imread(img_path)\n",
    "        img = cv2.resize(img, self.img_dim)\n",
    "        class_id = self.class_map[class_name]\n",
    "        img_tensor = torch.from_numpy(img)\n",
    "        img_tensor = img_tensor.permute(2, 0, 1)\n",
    "        class_id = torch.tensor([class_id])\n",
    "        return img_tensor, class_id\n",
    "dat=GeneralSurgeryToolsDataset().__getitem__(0)"
   ]
  },
  {
   "cell_type": "code",
   "execution_count": null,
   "id": "0a39a17c",
   "metadata": {},
   "outputs": [],
   "source": []
  }
 ],
 "metadata": {
  "kernelspec": {
   "display_name": "Python 3 (ipykernel)",
   "language": "python",
   "name": "python3"
  },
  "language_info": {
   "codemirror_mode": {
    "name": "ipython",
    "version": 3
   },
   "file_extension": ".py",
   "mimetype": "text/x-python",
   "name": "python",
   "nbconvert_exporter": "python",
   "pygments_lexer": "ipython3",
   "version": "3.10.9"
  }
 },
 "nbformat": 4,
 "nbformat_minor": 5
}
