{
 "cells": [
  {
   "cell_type": "code",
   "execution_count": 1,
   "id": "981e4c85",
   "metadata": {},
   "outputs": [
    {
     "ename": "ModuleNotFoundError",
     "evalue": "No module named 'tsimcne'",
     "output_type": "error",
     "traceback": [
      "\u001b[0;31m---------------------------------------------------------------------------\u001b[0m",
      "\u001b[0;31mModuleNotFoundError\u001b[0m                       Traceback (most recent call last)",
      "Cell \u001b[0;32mIn[1], line 8\u001b[0m\n\u001b[1;32m      6\u001b[0m \u001b[39mimport\u001b[39;00m \u001b[39mcv2\u001b[39;00m\n\u001b[1;32m      7\u001b[0m \u001b[39mfrom\u001b[39;00m \u001b[39mtqdm\u001b[39;00m \u001b[39mimport\u001b[39;00m tqdm\n\u001b[0;32m----> 8\u001b[0m \u001b[39mfrom\u001b[39;00m \u001b[39mtsimcne\u001b[39;00m\u001b[39m.\u001b[39;00m\u001b[39mtsimcne\u001b[39;00m \u001b[39mimport\u001b[39;00m TSimCNE\n\u001b[1;32m      9\u001b[0m \u001b[39mfrom\u001b[39;00m \u001b[39mtsimcne\u001b[39;00m\u001b[39m.\u001b[39;00m\u001b[39mimagedistortions\u001b[39;00m \u001b[39mimport\u001b[39;00m TransformedPairDataset, get_transforms\n",
      "\u001b[0;31mModuleNotFoundError\u001b[0m: No module named 'tsimcne'"
     ]
    }
   ],
   "source": [
    "import numpy as np\n",
    "import torch\n",
    "import os\n",
    "from torch.utils.data import Dataset, DataLoader, SubsetRandomSampler\n",
    "import glob\n",
    "import cv2\n",
    "from tqdm import tqdm\n",
    "from tsimcne.tsimcne import TSimCNE\n",
    "from tsimcne.imagedistortions import TransformedPairDataset, get_transforms"
   ]
  },
  {
   "cell_type": "code",
   "execution_count": 2,
   "id": "24cfaa4d",
   "metadata": {},
   "outputs": [],
   "source": [
    "general_surgery_dat='/media/maria/DATA1/Hospitools_Dataset_DSLR/General_Surgery/General_Major'"
   ]
  },
  {
   "cell_type": "code",
   "execution_count": 3,
   "id": "573d81b5",
   "metadata": {},
   "outputs": [],
   "source": [
    "tools=os.listdir(general_surgery_dat)"
   ]
  },
  {
   "cell_type": "code",
   "execution_count": 4,
   "id": "6b86028d",
   "metadata": {
    "scrolled": true
   },
   "outputs": [
    {
     "data": {
      "text/plain": [
       "['38_Deaver_Retractor',\n",
       " '50_Deaver_Retractor',\n",
       " '6_Babcock_Tissue_Forceps',\n",
       " '6_Mayo_Needle_Holder',\n",
       " '75_Deaver_Retractor',\n",
       " '7_Metzenbaum_Scissors',\n",
       " '7_Microvascular_Needle_Holder',\n",
       " '8_Babcock_Tissue_Forceps',\n",
       " '8_Mayo_Needle_Holder',\n",
       " '8_Microvascular_Needle_Holder',\n",
       " '9_DeBakey_Dissector',\n",
       " '9_DeBakey_Needle_Holder',\n",
       " '9_Metzenbaum_Scissors',\n",
       " 'Allis_Tissue_Forceps',\n",
       " 'Balfour_Retractor',\n",
       " 'Ball_&_Socket_Towel_Clips',\n",
       " 'Bonneys_Toothed_Dissector',\n",
       " 'Crile_Artery_Forceps',\n",
       " 'Curved_Mayo_Scissors',\n",
       " 'Dressing_Scissors',\n",
       " 'General_Set',\n",
       " 'Gillies_Toothed_Dissector',\n",
       " 'Bonneys_Non_Toothed_Dissector',\n",
       " 'Lahey_Forceps',\n",
       " 'Large_Langebeck_Retractor',\n",
       " 'Large_Olliers_Retractor',\n",
       " 'Littlewood_Tissue_Forceps',\n",
       " 'Mayo_Artery_Forceps',\n",
       " 'Morris_Retractor',\n",
       " 'No3_BP_Handles',\n",
       " 'No4_BP_Handles',\n",
       " 'No7_BP_Handles',\n",
       " 'Robert_Artery_Forceps',\n",
       " 'Small_Olliers_Retractor',\n",
       " 'Sponge_Forceps',\n",
       " 'St-Marks_Retractor',\n",
       " 'Valley_Lab_Diathermy',\n",
       " 'Watson_Cheyne_Probe']"
      ]
     },
     "execution_count": 4,
     "metadata": {},
     "output_type": "execute_result"
    }
   ],
   "source": [
    "tools"
   ]
  },
  {
   "cell_type": "code",
   "execution_count": 11,
   "id": "e36c7250",
   "metadata": {},
   "outputs": [
    {
     "name": "stdout",
     "output_type": "stream",
     "text": [
      "{'Valley_Lab_Diathermy': 0, '38_Deaver_Retractor': 1, 'Robert_Artery_Forceps': 2, 'Large_Olliers_Retractor': 3, 'Ball_&_Socket_Towel_Clips': 4, 'General_Set': 5, 'Watson_Cheyne_Probe': 6, 'No7_BP_Handles': 7, '50_Deaver_Retractor': 8, '6_Babcock_Tissue_Forceps': 9, '7_Metzenbaum_Scissors': 10, '9_Metzenbaum_Scissors': 11, 'Large_Langebeck_Retractor': 12, 'Littlewood_Tissue_Forceps': 13, 'Bonneys_Toothed_Dissector': 14, 'Lahey_Forceps': 15, 'Morris_Retractor': 16, '8_Microvascular_Needle_Holder': 17, 'No4_BP_Handles': 18, 'Allis_Tissue_Forceps': 19, '7_Microvascular_Needle_Holder': 20, 'Small_Olliers_Retractor': 21, 'Mayo_Artery_Forceps': 22, 'St-Marks_Retractor': 23, 'Bonneys_Non_Toothed_Dissector': 24, 'Gillies_Toothed_Dissector': 25, 'Sponge_Forceps': 26, 'Dressing_Scissors': 27, 'No3_BP_Handles': 28, 'Balfour_Retractor': 29, '8_Babcock_Tissue_Forceps': 30, '6_Mayo_Needle_Holder': 31, '9_DeBakey_Dissector': 32, '9_DeBakey_Needle_Holder': 33, '75_Deaver_Retractor': 34, 'Crile_Artery_Forceps': 35, 'Curved_Mayo_Scissors': 36, '8_Mayo_Needle_Holder': 37}\n"
     ]
    }
   ],
   "source": [
    "class GeneralSurgeryToolsDataset(Dataset):\n",
    "    def __init__(self):\n",
    "        self.imgs_path = '/media/maria/DATA1/Hospitools_Dataset_DSLR/General_Surgery/General_Major/'\n",
    "        tools=os.listdir(general_surgery_dat)\n",
    "        folder_list=[]\n",
    "        for im_p in tools:\n",
    "            folder_list.append(glob.glob(self.imgs_path + im_p)[0])\n",
    "        self.data = []\n",
    "        cn=[]\n",
    "        for folder in folder_list:\n",
    "            for file in os.scandir(folder):\n",
    "                class_name = file.path.split(\"/\")[-2]\n",
    "                self.data.append([file.path, class_name])\n",
    "                cn.append(class_name)\n",
    "        self.class_map = {}\n",
    "        i=0\n",
    "        for c in set(cn):\n",
    "            self.class_map[c]=i\n",
    "            i+=1\n",
    "        print(self.class_map)\n",
    "        self.img_dim = (100, 100)\n",
    "    def __len__(self):\n",
    "        return len(self.data)\n",
    "    def __getitem__(self, idx):\n",
    "        img_path, class_name = self.data[idx]\n",
    "        img = cv2.imread(img_path)\n",
    "        img = cv2.resize(img, self.img_dim)\n",
    "        class_id = self.class_map[class_name]\n",
    "        img_tensor = torch.from_numpy(img)\n",
    "        img_tensor = img_tensor.permute(2, 0, 1)\n",
    "        class_id = torch.tensor([class_id])\n",
    "        return img_tensor, class_id\n",
    "dat=GeneralSurgeryToolsDataset().__getitem__(0)"
   ]
  },
  {
   "cell_type": "code",
   "execution_count": null,
   "id": "0a39a17c",
   "metadata": {},
   "outputs": [],
   "source": [
    "dataset_train = GeneralSurgeryToolsDataset(train=)\n",
    "train_dataset, test_dataset = torch.utils.data.random_split(full_dataset, [train_size, test_size]) = torch.utils.data.ConcatDataset(\n",
    "    [dataset_train, dataset_test]\n",
    ")\n",
    "\n",
    "# mean, std, size correspond to dataset\n",
    "mean = (0.4914, 0.4822, 0.4465)\n",
    "std = (0.2023, 0.1994, 0.2010)\n",
    "size = (32, 32)\n",
    "\n",
    "# placeholders\n",
    "psum    = torch.tensor([0.0, 0.0, 0.0])\n",
    "psum_sq = torch.tensor([0.0, 0.0, 0.0])\n",
    "\n",
    "# loop through images\n",
    "for inputs in tqdm(image_loader):\n",
    "    psum    += inputs.sum(axis        = [0, 2, 3])\n",
    "    psum_sq += (inputs ** 2).sum(axis = [0, 2, 3])\n",
    "size = (100, 100)"
   ]
  },
  {
   "cell_type": "code",
   "execution_count": 29,
   "id": "3bfb5a5b",
   "metadata": {},
   "outputs": [],
   "source": [
    "def calc_mean_std(train_loader):\n",
    "    # placeholders\n",
    "    psum    = torch.tensor([0.0, 0.0, 0.0])\n",
    "    psum_sq = torch.tensor([0.0, 0.0, 0.0])\n",
    "\n",
    "    # loop through images\n",
    "    for inputs in tqdm(train_loader):\n",
    "        #print(inputs)\n",
    "        psum    += inputs[0].sum(axis        = [0, 2, 3])\n",
    "        psum_sq += (inputs[0] ** 2).sum(axis = [0, 2, 3])\n",
    "    size = (100, 100)\n",
    "    return psum, np.sqrt(psum_sq), size"
   ]
  },
  {
   "cell_type": "code",
   "execution_count": 30,
   "id": "264ed543",
   "metadata": {},
   "outputs": [],
   "source": [
    "def generate_loaders():\n",
    "    dataset = GeneralSurgeryToolsDataset()\n",
    "    batch_size = 30\n",
    "    validation_split = .5\n",
    "    shuffle_dataset = True\n",
    "    random_seed= 42\n",
    "\n",
    "    # Creating data indices for training and validation splits:\n",
    "    dataset_size = len(dataset)\n",
    "    indices = list(range(dataset_size))\n",
    "    split = int(np.floor(validation_split * dataset_size))\n",
    "    if shuffle_dataset :\n",
    "        np.random.seed(random_seed)\n",
    "        np.random.shuffle(indices)\n",
    "    train_indices, val_indices = indices[split:], indices[:split]\n",
    "\n",
    "    # Creating PT data samplers and loaders:\n",
    "    train_sampler = SubsetRandomSampler(train_indices)\n",
    "    valid_sampler = SubsetRandomSampler(val_indices)\n",
    "\n",
    "    train_loader = torch.utils.data.DataLoader(dataset, batch_size=batch_size, \n",
    "                                               sampler=train_sampler)\n",
    "    validation_loader = torch.utils.data.DataLoader(dataset, batch_size=batch_size,\n",
    "                                                    sampler=valid_sampler)\n",
    "    \n",
    "    mean, std, size= calc_mean_std(train_loader)\n",
    "    \n",
    "    \n"
   ]
  },
  {
   "cell_type": "code",
   "execution_count": 31,
   "id": "2c6bfba7",
   "metadata": {},
   "outputs": [
    {
     "name": "stdout",
     "output_type": "stream",
     "text": [
      "{'Valley_Lab_Diathermy': 0, '38_Deaver_Retractor': 1, 'Robert_Artery_Forceps': 2, 'Large_Olliers_Retractor': 3, 'Ball_&_Socket_Towel_Clips': 4, 'General_Set': 5, 'Watson_Cheyne_Probe': 6, 'No7_BP_Handles': 7, '50_Deaver_Retractor': 8, '6_Babcock_Tissue_Forceps': 9, '7_Metzenbaum_Scissors': 10, '9_Metzenbaum_Scissors': 11, 'Large_Langebeck_Retractor': 12, 'Littlewood_Tissue_Forceps': 13, 'Bonneys_Toothed_Dissector': 14, 'Lahey_Forceps': 15, 'Morris_Retractor': 16, '8_Microvascular_Needle_Holder': 17, 'No4_BP_Handles': 18, 'Allis_Tissue_Forceps': 19, '7_Microvascular_Needle_Holder': 20, 'Small_Olliers_Retractor': 21, 'Mayo_Artery_Forceps': 22, 'St-Marks_Retractor': 23, 'Bonneys_Non_Toothed_Dissector': 24, 'Gillies_Toothed_Dissector': 25, 'Sponge_Forceps': 26, 'Dressing_Scissors': 27, 'No3_BP_Handles': 28, 'Balfour_Retractor': 29, '8_Babcock_Tissue_Forceps': 30, '6_Mayo_Needle_Holder': 31, '9_DeBakey_Dissector': 32, '9_DeBakey_Needle_Holder': 33, '75_Deaver_Retractor': 34, 'Crile_Artery_Forceps': 35, 'Curved_Mayo_Scissors': 36, '8_Mayo_Needle_Holder': 37}\n"
     ]
    },
    {
     "name": "stderr",
     "output_type": "stream",
     "text": [
      "100%|███████████████████████████████████████████| 65/65 [00:46<00:00,  1.40it/s]\n"
     ]
    }
   ],
   "source": [
    "generate_loaders()"
   ]
  }
 ],
 "metadata": {
  "kernelspec": {
   "display_name": "contrastive_tsne",
   "language": "python",
   "name": "python3"
  },
  "language_info": {
   "codemirror_mode": {
    "name": "ipython",
    "version": 3
   },
   "file_extension": ".py",
   "mimetype": "text/x-python",
   "name": "python",
   "nbconvert_exporter": "python",
   "pygments_lexer": "ipython3",
   "version": "3.10.9 (main, Jan 11 2023, 15:21:40) [GCC 11.2.0]"
  },
  "vscode": {
   "interpreter": {
    "hash": "d4c9d6fe724cf9db130038e68ff68be64102fa63bc19788b886aeabe19273a0f"
   }
  }
 },
 "nbformat": 4,
 "nbformat_minor": 5
}
